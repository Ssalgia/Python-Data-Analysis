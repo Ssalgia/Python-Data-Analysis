{
  "nbformat": 4,
  "nbformat_minor": 0,
  "metadata": {
    "colab": {
      "name": "Exploratory Data Analysis.ipynb",
      "provenance": [],
      "authorship_tag": "ABX9TyNFrxwMU+cx62z3Ld2WXwIT",
      "include_colab_link": true
    },
    "kernelspec": {
      "name": "python3",
      "display_name": "Python 3"
    }
  },
  "cells": [
    {
      "cell_type": "markdown",
      "metadata": {
        "id": "view-in-github",
        "colab_type": "text"
      },
      "source": [
        "<a href=\"https://colab.research.google.com/github/Ssalgia/Python-Data-Analysis/blob/master/Exploratory_Data_Analysis.ipynb\" target=\"_parent\"><img src=\"https://colab.research.google.com/assets/colab-badge.svg\" alt=\"Open In Colab\"/></a>"
      ]
    },
    {
      "cell_type": "code",
      "metadata": {
        "id": "lKY0alUuS2OD",
        "colab_type": "code",
        "colab": {}
      },
      "source": [
        "import pandas as pd\n",
        "import numpy as np\n",
        "import seaborn as sns                       #visualisation\n",
        "import matplotlib.pyplot as plt             #visualisation\n",
        "%matplotlib inline     \n",
        "sns.set(color_codes=True)\n"
      ],
      "execution_count": 0,
      "outputs": []
    },
    {
      "cell_type": "markdown",
      "metadata": {
        "id": "YtdnTYFWHNSd",
        "colab_type": "text"
      },
      "source": [
        "**Read The CSV File**"
      ]
    },
    {
      "cell_type": "code",
      "metadata": {
        "id": "_mZU14ELVHCt",
        "colab_type": "code",
        "outputId": "40f1e8f6-ddea-4a4c-c549-678f326165b3",
        "colab": {
          "base_uri": "https://localhost:8080/",
          "height": 343
        }
      },
      "source": [
        "df = pd.read_csv(\"ecommerce_data.csv\")\n",
        "df.head(10)                              #top 10 entries"
      ],
      "execution_count": 4,
      "outputs": [
        {
          "output_type": "execute_result",
          "data": {
            "text/html": [
              "<div>\n",
              "<style scoped>\n",
              "    .dataframe tbody tr th:only-of-type {\n",
              "        vertical-align: middle;\n",
              "    }\n",
              "\n",
              "    .dataframe tbody tr th {\n",
              "        vertical-align: top;\n",
              "    }\n",
              "\n",
              "    .dataframe thead th {\n",
              "        text-align: right;\n",
              "    }\n",
              "</style>\n",
              "<table border=\"1\" class=\"dataframe\">\n",
              "  <thead>\n",
              "    <tr style=\"text-align: right;\">\n",
              "      <th></th>\n",
              "      <th>is_mobile</th>\n",
              "      <th>n_products_viewed</th>\n",
              "      <th>visit_duration</th>\n",
              "      <th>is_returning_visitor</th>\n",
              "      <th>time_of_day</th>\n",
              "      <th>user_action</th>\n",
              "    </tr>\n",
              "  </thead>\n",
              "  <tbody>\n",
              "    <tr>\n",
              "      <th>0</th>\n",
              "      <td>1</td>\n",
              "      <td>0</td>\n",
              "      <td>0.657510</td>\n",
              "      <td>0</td>\n",
              "      <td>3</td>\n",
              "      <td>0</td>\n",
              "    </tr>\n",
              "    <tr>\n",
              "      <th>1</th>\n",
              "      <td>1</td>\n",
              "      <td>1</td>\n",
              "      <td>0.568571</td>\n",
              "      <td>0</td>\n",
              "      <td>2</td>\n",
              "      <td>1</td>\n",
              "    </tr>\n",
              "    <tr>\n",
              "      <th>2</th>\n",
              "      <td>1</td>\n",
              "      <td>0</td>\n",
              "      <td>0.042246</td>\n",
              "      <td>1</td>\n",
              "      <td>1</td>\n",
              "      <td>0</td>\n",
              "    </tr>\n",
              "    <tr>\n",
              "      <th>3</th>\n",
              "      <td>1</td>\n",
              "      <td>1</td>\n",
              "      <td>1.659793</td>\n",
              "      <td>1</td>\n",
              "      <td>1</td>\n",
              "      <td>2</td>\n",
              "    </tr>\n",
              "    <tr>\n",
              "      <th>4</th>\n",
              "      <td>0</td>\n",
              "      <td>1</td>\n",
              "      <td>2.014745</td>\n",
              "      <td>1</td>\n",
              "      <td>1</td>\n",
              "      <td>2</td>\n",
              "    </tr>\n",
              "    <tr>\n",
              "      <th>5</th>\n",
              "      <td>1</td>\n",
              "      <td>1</td>\n",
              "      <td>0.512447</td>\n",
              "      <td>1</td>\n",
              "      <td>1</td>\n",
              "      <td>2</td>\n",
              "    </tr>\n",
              "    <tr>\n",
              "      <th>6</th>\n",
              "      <td>0</td>\n",
              "      <td>0</td>\n",
              "      <td>1.440327</td>\n",
              "      <td>1</td>\n",
              "      <td>1</td>\n",
              "      <td>0</td>\n",
              "    </tr>\n",
              "    <tr>\n",
              "      <th>7</th>\n",
              "      <td>1</td>\n",
              "      <td>0</td>\n",
              "      <td>0.035260</td>\n",
              "      <td>0</td>\n",
              "      <td>3</td>\n",
              "      <td>0</td>\n",
              "    </tr>\n",
              "    <tr>\n",
              "      <th>8</th>\n",
              "      <td>0</td>\n",
              "      <td>1</td>\n",
              "      <td>1.490764</td>\n",
              "      <td>0</td>\n",
              "      <td>0</td>\n",
              "      <td>1</td>\n",
              "    </tr>\n",
              "    <tr>\n",
              "      <th>9</th>\n",
              "      <td>0</td>\n",
              "      <td>0</td>\n",
              "      <td>0.005838</td>\n",
              "      <td>1</td>\n",
              "      <td>3</td>\n",
              "      <td>0</td>\n",
              "    </tr>\n",
              "  </tbody>\n",
              "</table>\n",
              "</div>"
            ],
            "text/plain": [
              "   is_mobile  n_products_viewed  ...  time_of_day  user_action\n",
              "0          1                  0  ...            3            0\n",
              "1          1                  1  ...            2            1\n",
              "2          1                  0  ...            1            0\n",
              "3          1                  1  ...            1            2\n",
              "4          0                  1  ...            1            2\n",
              "5          1                  1  ...            1            2\n",
              "6          0                  0  ...            1            0\n",
              "7          1                  0  ...            3            0\n",
              "8          0                  1  ...            0            1\n",
              "9          0                  0  ...            3            0\n",
              "\n",
              "[10 rows x 6 columns]"
            ]
          },
          "metadata": {
            "tags": []
          },
          "execution_count": 4
        }
      ]
    },
    {
      "cell_type": "code",
      "metadata": {
        "id": "3afnUEc5VZm5",
        "colab_type": "code",
        "outputId": "b6749099-3c0f-4413-fd66-423972ff309f",
        "colab": {
          "base_uri": "https://localhost:8080/",
          "height": 343
        }
      },
      "source": [
        "df.tail(10)                                 #last 10 entries"
      ],
      "execution_count": 5,
      "outputs": [
        {
          "output_type": "execute_result",
          "data": {
            "text/html": [
              "<div>\n",
              "<style scoped>\n",
              "    .dataframe tbody tr th:only-of-type {\n",
              "        vertical-align: middle;\n",
              "    }\n",
              "\n",
              "    .dataframe tbody tr th {\n",
              "        vertical-align: top;\n",
              "    }\n",
              "\n",
              "    .dataframe thead th {\n",
              "        text-align: right;\n",
              "    }\n",
              "</style>\n",
              "<table border=\"1\" class=\"dataframe\">\n",
              "  <thead>\n",
              "    <tr style=\"text-align: right;\">\n",
              "      <th></th>\n",
              "      <th>is_mobile</th>\n",
              "      <th>n_products_viewed</th>\n",
              "      <th>visit_duration</th>\n",
              "      <th>is_returning_visitor</th>\n",
              "      <th>time_of_day</th>\n",
              "      <th>user_action</th>\n",
              "    </tr>\n",
              "  </thead>\n",
              "  <tbody>\n",
              "    <tr>\n",
              "      <th>490</th>\n",
              "      <td>1</td>\n",
              "      <td>3</td>\n",
              "      <td>0.978725</td>\n",
              "      <td>1</td>\n",
              "      <td>1</td>\n",
              "      <td>3</td>\n",
              "    </tr>\n",
              "    <tr>\n",
              "      <th>491</th>\n",
              "      <td>1</td>\n",
              "      <td>0</td>\n",
              "      <td>0.233267</td>\n",
              "      <td>1</td>\n",
              "      <td>3</td>\n",
              "      <td>0</td>\n",
              "    </tr>\n",
              "    <tr>\n",
              "      <th>492</th>\n",
              "      <td>0</td>\n",
              "      <td>0</td>\n",
              "      <td>0.666865</td>\n",
              "      <td>1</td>\n",
              "      <td>2</td>\n",
              "      <td>0</td>\n",
              "    </tr>\n",
              "    <tr>\n",
              "      <th>493</th>\n",
              "      <td>0</td>\n",
              "      <td>0</td>\n",
              "      <td>2.037393</td>\n",
              "      <td>0</td>\n",
              "      <td>2</td>\n",
              "      <td>0</td>\n",
              "    </tr>\n",
              "    <tr>\n",
              "      <th>494</th>\n",
              "      <td>1</td>\n",
              "      <td>1</td>\n",
              "      <td>1.601178</td>\n",
              "      <td>1</td>\n",
              "      <td>1</td>\n",
              "      <td>2</td>\n",
              "    </tr>\n",
              "    <tr>\n",
              "      <th>495</th>\n",
              "      <td>1</td>\n",
              "      <td>3</td>\n",
              "      <td>0.731594</td>\n",
              "      <td>0</td>\n",
              "      <td>0</td>\n",
              "      <td>2</td>\n",
              "    </tr>\n",
              "    <tr>\n",
              "      <th>496</th>\n",
              "      <td>0</td>\n",
              "      <td>0</td>\n",
              "      <td>6.368775</td>\n",
              "      <td>1</td>\n",
              "      <td>3</td>\n",
              "      <td>0</td>\n",
              "    </tr>\n",
              "    <tr>\n",
              "      <th>497</th>\n",
              "      <td>0</td>\n",
              "      <td>0</td>\n",
              "      <td>0.172853</td>\n",
              "      <td>1</td>\n",
              "      <td>3</td>\n",
              "      <td>0</td>\n",
              "    </tr>\n",
              "    <tr>\n",
              "      <th>498</th>\n",
              "      <td>1</td>\n",
              "      <td>0</td>\n",
              "      <td>0.209964</td>\n",
              "      <td>0</td>\n",
              "      <td>3</td>\n",
              "      <td>0</td>\n",
              "    </tr>\n",
              "    <tr>\n",
              "      <th>499</th>\n",
              "      <td>0</td>\n",
              "      <td>0</td>\n",
              "      <td>2.616882</td>\n",
              "      <td>1</td>\n",
              "      <td>3</td>\n",
              "      <td>0</td>\n",
              "    </tr>\n",
              "  </tbody>\n",
              "</table>\n",
              "</div>"
            ],
            "text/plain": [
              "     is_mobile  n_products_viewed  ...  time_of_day  user_action\n",
              "490          1                  3  ...            1            3\n",
              "491          1                  0  ...            3            0\n",
              "492          0                  0  ...            2            0\n",
              "493          0                  0  ...            2            0\n",
              "494          1                  1  ...            1            2\n",
              "495          1                  3  ...            0            2\n",
              "496          0                  0  ...            3            0\n",
              "497          0                  0  ...            3            0\n",
              "498          1                  0  ...            3            0\n",
              "499          0                  0  ...            3            0\n",
              "\n",
              "[10 rows x 6 columns]"
            ]
          },
          "metadata": {
            "tags": []
          },
          "execution_count": 5
        }
      ]
    },
    {
      "cell_type": "code",
      "metadata": {
        "id": "y1aj5_OfVlhN",
        "colab_type": "code",
        "outputId": "79a74031-03eb-4576-ce4b-2f6d50078c8c",
        "colab": {
          "base_uri": "https://localhost:8080/",
          "height": 134
        }
      },
      "source": [
        "df.dtypes\n"
      ],
      "execution_count": 0,
      "outputs": [
        {
          "output_type": "execute_result",
          "data": {
            "text/plain": [
              "is_mobile                 int64\n",
              "n_products_viewed         int64\n",
              "visit_duration          float64\n",
              "is_returning_visitor      int64\n",
              "time_of_day               int64\n",
              "user_action               int64\n",
              "dtype: object"
            ]
          },
          "metadata": {
            "tags": []
          },
          "execution_count": 4
        }
      ]
    },
    {
      "cell_type": "code",
      "metadata": {
        "id": "OQcqQ2azaCcM",
        "colab_type": "code",
        "colab": {}
      },
      "source": [
        ""
      ],
      "execution_count": 0,
      "outputs": []
    },
    {
      "cell_type": "markdown",
      "metadata": {
        "id": "GBWIGCFKaVrg",
        "colab_type": "text"
      },
      "source": [
        "The next step is to reduce and remove the irrelevant columns."
      ]
    },
    {
      "cell_type": "code",
      "metadata": {
        "id": "zt6WmZ6pg6U1",
        "colab_type": "code",
        "outputId": "1a46d333-abcc-459d-9c1f-85f99038dd8f",
        "colab": {
          "base_uri": "https://localhost:8080/",
          "height": 343
        }
      },
      "source": [
        "\n",
        "df = df.drop('time_of_day', axis=1)\n",
        "df.head(10)\n"
      ],
      "execution_count": 0,
      "outputs": [
        {
          "output_type": "execute_result",
          "data": {
            "text/html": [
              "<div>\n",
              "<style scoped>\n",
              "    .dataframe tbody tr th:only-of-type {\n",
              "        vertical-align: middle;\n",
              "    }\n",
              "\n",
              "    .dataframe tbody tr th {\n",
              "        vertical-align: top;\n",
              "    }\n",
              "\n",
              "    .dataframe thead th {\n",
              "        text-align: right;\n",
              "    }\n",
              "</style>\n",
              "<table border=\"1\" class=\"dataframe\">\n",
              "  <thead>\n",
              "    <tr style=\"text-align: right;\">\n",
              "      <th></th>\n",
              "      <th>is_mobile</th>\n",
              "      <th>n_products_viewed</th>\n",
              "      <th>visit_duration</th>\n",
              "      <th>is_returning_visitor</th>\n",
              "      <th>user_action</th>\n",
              "    </tr>\n",
              "  </thead>\n",
              "  <tbody>\n",
              "    <tr>\n",
              "      <th>0</th>\n",
              "      <td>1</td>\n",
              "      <td>0</td>\n",
              "      <td>0.657510</td>\n",
              "      <td>0</td>\n",
              "      <td>0</td>\n",
              "    </tr>\n",
              "    <tr>\n",
              "      <th>1</th>\n",
              "      <td>1</td>\n",
              "      <td>1</td>\n",
              "      <td>0.568571</td>\n",
              "      <td>0</td>\n",
              "      <td>1</td>\n",
              "    </tr>\n",
              "    <tr>\n",
              "      <th>2</th>\n",
              "      <td>1</td>\n",
              "      <td>0</td>\n",
              "      <td>0.042246</td>\n",
              "      <td>1</td>\n",
              "      <td>0</td>\n",
              "    </tr>\n",
              "    <tr>\n",
              "      <th>3</th>\n",
              "      <td>1</td>\n",
              "      <td>1</td>\n",
              "      <td>1.659793</td>\n",
              "      <td>1</td>\n",
              "      <td>2</td>\n",
              "    </tr>\n",
              "    <tr>\n",
              "      <th>4</th>\n",
              "      <td>0</td>\n",
              "      <td>1</td>\n",
              "      <td>2.014745</td>\n",
              "      <td>1</td>\n",
              "      <td>2</td>\n",
              "    </tr>\n",
              "    <tr>\n",
              "      <th>5</th>\n",
              "      <td>1</td>\n",
              "      <td>1</td>\n",
              "      <td>0.512447</td>\n",
              "      <td>1</td>\n",
              "      <td>2</td>\n",
              "    </tr>\n",
              "    <tr>\n",
              "      <th>6</th>\n",
              "      <td>0</td>\n",
              "      <td>0</td>\n",
              "      <td>1.440327</td>\n",
              "      <td>1</td>\n",
              "      <td>0</td>\n",
              "    </tr>\n",
              "    <tr>\n",
              "      <th>7</th>\n",
              "      <td>1</td>\n",
              "      <td>0</td>\n",
              "      <td>0.035260</td>\n",
              "      <td>0</td>\n",
              "      <td>0</td>\n",
              "    </tr>\n",
              "    <tr>\n",
              "      <th>8</th>\n",
              "      <td>0</td>\n",
              "      <td>1</td>\n",
              "      <td>1.490764</td>\n",
              "      <td>0</td>\n",
              "      <td>1</td>\n",
              "    </tr>\n",
              "    <tr>\n",
              "      <th>9</th>\n",
              "      <td>0</td>\n",
              "      <td>0</td>\n",
              "      <td>0.005838</td>\n",
              "      <td>1</td>\n",
              "      <td>0</td>\n",
              "    </tr>\n",
              "  </tbody>\n",
              "</table>\n",
              "</div>"
            ],
            "text/plain": [
              "   is_mobile  n_products_viewed  ...  is_returning_visitor  user_action\n",
              "0          1                  0  ...                     0            0\n",
              "1          1                  1  ...                     0            1\n",
              "2          1                  0  ...                     1            0\n",
              "3          1                  1  ...                     1            2\n",
              "4          0                  1  ...                     1            2\n",
              "5          1                  1  ...                     1            2\n",
              "6          0                  0  ...                     1            0\n",
              "7          1                  0  ...                     0            0\n",
              "8          0                  1  ...                     0            1\n",
              "9          0                  0  ...                     1            0\n",
              "\n",
              "[10 rows x 5 columns]"
            ]
          },
          "metadata": {
            "tags": []
          },
          "execution_count": 11
        }
      ]
    },
    {
      "cell_type": "code",
      "metadata": {
        "id": "Rw91T5B4hZPF",
        "colab_type": "code",
        "outputId": "d9dbc9cc-ab7c-4588-cf54-276635d132c2",
        "colab": {
          "base_uri": "https://localhost:8080/",
          "height": 67
        }
      },
      "source": [
        "df.columns\n"
      ],
      "execution_count": 0,
      "outputs": [
        {
          "output_type": "execute_result",
          "data": {
            "text/plain": [
              "Index(['is_mobile', 'n_products_viewed', 'visit_duration',\n",
              "       'is_returning_visitor', 'user_action'],\n",
              "      dtype='object')"
            ]
          },
          "metadata": {
            "tags": []
          },
          "execution_count": 12
        }
      ]
    },
    {
      "cell_type": "code",
      "metadata": {
        "id": "BF0whXhFkgwQ",
        "colab_type": "code",
        "outputId": "abb9943f-c8d8-400b-8446-d8a091a2e404",
        "colab": {
          "base_uri": "https://localhost:8080/",
          "height": 34
        }
      },
      "source": [
        "df.shape\n"
      ],
      "execution_count": 0,
      "outputs": [
        {
          "output_type": "execute_result",
          "data": {
            "text/plain": [
              "(500, 5)"
            ]
          },
          "metadata": {
            "tags": []
          },
          "execution_count": 13
        }
      ]
    },
    {
      "cell_type": "markdown",
      "metadata": {
        "id": "oZJI0C-SHEty",
        "colab_type": "text"
      },
      "source": [
        "**Rename Columns**"
      ]
    },
    {
      "cell_type": "code",
      "metadata": {
        "id": "zAWzvefNki82",
        "colab_type": "code",
        "outputId": "97d3fcd0-2ba0-4f95-d8aa-5b857485effd",
        "colab": {
          "base_uri": "https://localhost:8080/",
          "height": 343
        }
      },
      "source": [
        "df = df.rename(columns={\"is_mobile\":\"mobile\" , \"n_products_viewed\": \"viewed\", \"visit_duration\":\"duration\",\"is_returning_visitor\":\"returning_visitor\",\"user_action\":\"action\"})\n",
        "df.head(10)"
      ],
      "execution_count": 11,
      "outputs": [
        {
          "output_type": "execute_result",
          "data": {
            "text/html": [
              "<div>\n",
              "<style scoped>\n",
              "    .dataframe tbody tr th:only-of-type {\n",
              "        vertical-align: middle;\n",
              "    }\n",
              "\n",
              "    .dataframe tbody tr th {\n",
              "        vertical-align: top;\n",
              "    }\n",
              "\n",
              "    .dataframe thead th {\n",
              "        text-align: right;\n",
              "    }\n",
              "</style>\n",
              "<table border=\"1\" class=\"dataframe\">\n",
              "  <thead>\n",
              "    <tr style=\"text-align: right;\">\n",
              "      <th></th>\n",
              "      <th>mobile</th>\n",
              "      <th>viewed</th>\n",
              "      <th>duration</th>\n",
              "      <th>returning_visitor</th>\n",
              "      <th>time_of_day</th>\n",
              "      <th>action</th>\n",
              "    </tr>\n",
              "  </thead>\n",
              "  <tbody>\n",
              "    <tr>\n",
              "      <th>0</th>\n",
              "      <td>1</td>\n",
              "      <td>0</td>\n",
              "      <td>0.657510</td>\n",
              "      <td>0</td>\n",
              "      <td>3</td>\n",
              "      <td>0</td>\n",
              "    </tr>\n",
              "    <tr>\n",
              "      <th>1</th>\n",
              "      <td>1</td>\n",
              "      <td>1</td>\n",
              "      <td>0.568571</td>\n",
              "      <td>0</td>\n",
              "      <td>2</td>\n",
              "      <td>1</td>\n",
              "    </tr>\n",
              "    <tr>\n",
              "      <th>2</th>\n",
              "      <td>1</td>\n",
              "      <td>0</td>\n",
              "      <td>0.042246</td>\n",
              "      <td>1</td>\n",
              "      <td>1</td>\n",
              "      <td>0</td>\n",
              "    </tr>\n",
              "    <tr>\n",
              "      <th>3</th>\n",
              "      <td>1</td>\n",
              "      <td>1</td>\n",
              "      <td>1.659793</td>\n",
              "      <td>1</td>\n",
              "      <td>1</td>\n",
              "      <td>2</td>\n",
              "    </tr>\n",
              "    <tr>\n",
              "      <th>4</th>\n",
              "      <td>0</td>\n",
              "      <td>1</td>\n",
              "      <td>2.014745</td>\n",
              "      <td>1</td>\n",
              "      <td>1</td>\n",
              "      <td>2</td>\n",
              "    </tr>\n",
              "    <tr>\n",
              "      <th>5</th>\n",
              "      <td>1</td>\n",
              "      <td>1</td>\n",
              "      <td>0.512447</td>\n",
              "      <td>1</td>\n",
              "      <td>1</td>\n",
              "      <td>2</td>\n",
              "    </tr>\n",
              "    <tr>\n",
              "      <th>6</th>\n",
              "      <td>0</td>\n",
              "      <td>0</td>\n",
              "      <td>1.440327</td>\n",
              "      <td>1</td>\n",
              "      <td>1</td>\n",
              "      <td>0</td>\n",
              "    </tr>\n",
              "    <tr>\n",
              "      <th>7</th>\n",
              "      <td>1</td>\n",
              "      <td>0</td>\n",
              "      <td>0.035260</td>\n",
              "      <td>0</td>\n",
              "      <td>3</td>\n",
              "      <td>0</td>\n",
              "    </tr>\n",
              "    <tr>\n",
              "      <th>8</th>\n",
              "      <td>0</td>\n",
              "      <td>1</td>\n",
              "      <td>1.490764</td>\n",
              "      <td>0</td>\n",
              "      <td>0</td>\n",
              "      <td>1</td>\n",
              "    </tr>\n",
              "    <tr>\n",
              "      <th>9</th>\n",
              "      <td>0</td>\n",
              "      <td>0</td>\n",
              "      <td>0.005838</td>\n",
              "      <td>1</td>\n",
              "      <td>3</td>\n",
              "      <td>0</td>\n",
              "    </tr>\n",
              "  </tbody>\n",
              "</table>\n",
              "</div>"
            ],
            "text/plain": [
              "   mobile  viewed  duration  returning_visitor  time_of_day  action\n",
              "0       1       0  0.657510                  0            3       0\n",
              "1       1       1  0.568571                  0            2       1\n",
              "2       1       0  0.042246                  1            1       0\n",
              "3       1       1  1.659793                  1            1       2\n",
              "4       0       1  2.014745                  1            1       2\n",
              "5       1       1  0.512447                  1            1       2\n",
              "6       0       0  1.440327                  1            1       0\n",
              "7       1       0  0.035260                  0            3       0\n",
              "8       0       1  1.490764                  0            0       1\n",
              "9       0       0  0.005838                  1            3       0"
            ]
          },
          "metadata": {
            "tags": []
          },
          "execution_count": 11
        }
      ]
    },
    {
      "cell_type": "code",
      "metadata": {
        "id": "vURg7_eanCLc",
        "colab_type": "code",
        "colab": {
          "base_uri": "https://localhost:8080/",
          "height": 343
        },
        "outputId": "c7651125-dd43-42cb-986a-db0346bfc976"
      },
      "source": [
        "df = df.rename(columns={\"is_mobile\":\"mobile\" , \"n_products_viewed\": \"viewed\", \"visit_duration\":\"duration\",\"is_returning_visitor\":\"returning_visitor\",\"user_action\":\"action\"})\n",
        "df.head(10)"
      ],
      "execution_count": 5,
      "outputs": [
        {
          "output_type": "execute_result",
          "data": {
            "text/html": [
              "<div>\n",
              "<style scoped>\n",
              "    .dataframe tbody tr th:only-of-type {\n",
              "        vertical-align: middle;\n",
              "    }\n",
              "\n",
              "    .dataframe tbody tr th {\n",
              "        vertical-align: top;\n",
              "    }\n",
              "\n",
              "    .dataframe thead th {\n",
              "        text-align: right;\n",
              "    }\n",
              "</style>\n",
              "<table border=\"1\" class=\"dataframe\">\n",
              "  <thead>\n",
              "    <tr style=\"text-align: right;\">\n",
              "      <th></th>\n",
              "      <th>mobile</th>\n",
              "      <th>viewed</th>\n",
              "      <th>duration</th>\n",
              "      <th>returning_visitor</th>\n",
              "      <th>time_of_day</th>\n",
              "      <th>action</th>\n",
              "    </tr>\n",
              "  </thead>\n",
              "  <tbody>\n",
              "    <tr>\n",
              "      <th>0</th>\n",
              "      <td>1</td>\n",
              "      <td>0</td>\n",
              "      <td>0.657510</td>\n",
              "      <td>0</td>\n",
              "      <td>3</td>\n",
              "      <td>0</td>\n",
              "    </tr>\n",
              "    <tr>\n",
              "      <th>1</th>\n",
              "      <td>1</td>\n",
              "      <td>1</td>\n",
              "      <td>0.568571</td>\n",
              "      <td>0</td>\n",
              "      <td>2</td>\n",
              "      <td>1</td>\n",
              "    </tr>\n",
              "    <tr>\n",
              "      <th>2</th>\n",
              "      <td>1</td>\n",
              "      <td>0</td>\n",
              "      <td>0.042246</td>\n",
              "      <td>1</td>\n",
              "      <td>1</td>\n",
              "      <td>0</td>\n",
              "    </tr>\n",
              "    <tr>\n",
              "      <th>3</th>\n",
              "      <td>1</td>\n",
              "      <td>1</td>\n",
              "      <td>1.659793</td>\n",
              "      <td>1</td>\n",
              "      <td>1</td>\n",
              "      <td>2</td>\n",
              "    </tr>\n",
              "    <tr>\n",
              "      <th>4</th>\n",
              "      <td>0</td>\n",
              "      <td>1</td>\n",
              "      <td>2.014745</td>\n",
              "      <td>1</td>\n",
              "      <td>1</td>\n",
              "      <td>2</td>\n",
              "    </tr>\n",
              "    <tr>\n",
              "      <th>5</th>\n",
              "      <td>1</td>\n",
              "      <td>1</td>\n",
              "      <td>0.512447</td>\n",
              "      <td>1</td>\n",
              "      <td>1</td>\n",
              "      <td>2</td>\n",
              "    </tr>\n",
              "    <tr>\n",
              "      <th>6</th>\n",
              "      <td>0</td>\n",
              "      <td>0</td>\n",
              "      <td>1.440327</td>\n",
              "      <td>1</td>\n",
              "      <td>1</td>\n",
              "      <td>0</td>\n",
              "    </tr>\n",
              "    <tr>\n",
              "      <th>7</th>\n",
              "      <td>1</td>\n",
              "      <td>0</td>\n",
              "      <td>0.035260</td>\n",
              "      <td>0</td>\n",
              "      <td>3</td>\n",
              "      <td>0</td>\n",
              "    </tr>\n",
              "    <tr>\n",
              "      <th>8</th>\n",
              "      <td>0</td>\n",
              "      <td>1</td>\n",
              "      <td>1.490764</td>\n",
              "      <td>0</td>\n",
              "      <td>0</td>\n",
              "      <td>1</td>\n",
              "    </tr>\n",
              "    <tr>\n",
              "      <th>9</th>\n",
              "      <td>0</td>\n",
              "      <td>0</td>\n",
              "      <td>0.005838</td>\n",
              "      <td>1</td>\n",
              "      <td>3</td>\n",
              "      <td>0</td>\n",
              "    </tr>\n",
              "  </tbody>\n",
              "</table>\n",
              "</div>"
            ],
            "text/plain": [
              "   mobile  viewed  duration  returning_visitor  time_of_day  action\n",
              "0       1       0  0.657510                  0            3       0\n",
              "1       1       1  0.568571                  0            2       1\n",
              "2       1       0  0.042246                  1            1       0\n",
              "3       1       1  1.659793                  1            1       2\n",
              "4       0       1  2.014745                  1            1       2\n",
              "5       1       1  0.512447                  1            1       2\n",
              "6       0       0  1.440327                  1            1       0\n",
              "7       1       0  0.035260                  0            3       0\n",
              "8       0       1  1.490764                  0            0       1\n",
              "9       0       0  0.005838                  1            3       0"
            ]
          },
          "metadata": {
            "tags": []
          },
          "execution_count": 5
        }
      ]
    },
    {
      "cell_type": "code",
      "metadata": {
        "id": "icp2_Lo7j2_X",
        "colab_type": "code",
        "colab": {
          "base_uri": "https://localhost:8080/",
          "height": 252
        },
        "outputId": "d2bb82f2-35a2-46f2-d0cb-15c50ea58022"
      },
      "source": [
        "df.count"
      ],
      "execution_count": 6,
      "outputs": [
        {
          "output_type": "execute_result",
          "data": {
            "text/plain": [
              "<bound method DataFrame.count of      mobile  viewed  duration  returning_visitor  time_of_day  action\n",
              "0         1       0  0.657510                  0            3       0\n",
              "1         1       1  0.568571                  0            2       1\n",
              "2         1       0  0.042246                  1            1       0\n",
              "3         1       1  1.659793                  1            1       2\n",
              "4         0       1  2.014745                  1            1       2\n",
              "..      ...     ...       ...                ...          ...     ...\n",
              "495       1       3  0.731594                  0            0       2\n",
              "496       0       0  6.368775                  1            3       0\n",
              "497       0       0  0.172853                  1            3       0\n",
              "498       1       0  0.209964                  0            3       0\n",
              "499       0       0  2.616882                  1            3       0\n",
              "\n",
              "[500 rows x 6 columns]>"
            ]
          },
          "metadata": {
            "tags": []
          },
          "execution_count": 6
        }
      ]
    },
    {
      "cell_type": "markdown",
      "metadata": {
        "id": "Tn4ZStF3G50n",
        "colab_type": "text"
      },
      "source": [
        "**Drop Duplicates**"
      ]
    },
    {
      "cell_type": "code",
      "metadata": {
        "id": "C36oFXqwk7HT",
        "colab_type": "code",
        "colab": {
          "base_uri": "https://localhost:8080/",
          "height": 343
        },
        "outputId": "432bada8-72d3-4e9d-b9ce-cd7569359373"
      },
      "source": [
        "df = df.drop_duplicates()\n",
        "df.head(10)"
      ],
      "execution_count": 7,
      "outputs": [
        {
          "output_type": "execute_result",
          "data": {
            "text/html": [
              "<div>\n",
              "<style scoped>\n",
              "    .dataframe tbody tr th:only-of-type {\n",
              "        vertical-align: middle;\n",
              "    }\n",
              "\n",
              "    .dataframe tbody tr th {\n",
              "        vertical-align: top;\n",
              "    }\n",
              "\n",
              "    .dataframe thead th {\n",
              "        text-align: right;\n",
              "    }\n",
              "</style>\n",
              "<table border=\"1\" class=\"dataframe\">\n",
              "  <thead>\n",
              "    <tr style=\"text-align: right;\">\n",
              "      <th></th>\n",
              "      <th>mobile</th>\n",
              "      <th>viewed</th>\n",
              "      <th>duration</th>\n",
              "      <th>returning_visitor</th>\n",
              "      <th>time_of_day</th>\n",
              "      <th>action</th>\n",
              "    </tr>\n",
              "  </thead>\n",
              "  <tbody>\n",
              "    <tr>\n",
              "      <th>0</th>\n",
              "      <td>1</td>\n",
              "      <td>0</td>\n",
              "      <td>0.657510</td>\n",
              "      <td>0</td>\n",
              "      <td>3</td>\n",
              "      <td>0</td>\n",
              "    </tr>\n",
              "    <tr>\n",
              "      <th>1</th>\n",
              "      <td>1</td>\n",
              "      <td>1</td>\n",
              "      <td>0.568571</td>\n",
              "      <td>0</td>\n",
              "      <td>2</td>\n",
              "      <td>1</td>\n",
              "    </tr>\n",
              "    <tr>\n",
              "      <th>2</th>\n",
              "      <td>1</td>\n",
              "      <td>0</td>\n",
              "      <td>0.042246</td>\n",
              "      <td>1</td>\n",
              "      <td>1</td>\n",
              "      <td>0</td>\n",
              "    </tr>\n",
              "    <tr>\n",
              "      <th>3</th>\n",
              "      <td>1</td>\n",
              "      <td>1</td>\n",
              "      <td>1.659793</td>\n",
              "      <td>1</td>\n",
              "      <td>1</td>\n",
              "      <td>2</td>\n",
              "    </tr>\n",
              "    <tr>\n",
              "      <th>4</th>\n",
              "      <td>0</td>\n",
              "      <td>1</td>\n",
              "      <td>2.014745</td>\n",
              "      <td>1</td>\n",
              "      <td>1</td>\n",
              "      <td>2</td>\n",
              "    </tr>\n",
              "    <tr>\n",
              "      <th>5</th>\n",
              "      <td>1</td>\n",
              "      <td>1</td>\n",
              "      <td>0.512447</td>\n",
              "      <td>1</td>\n",
              "      <td>1</td>\n",
              "      <td>2</td>\n",
              "    </tr>\n",
              "    <tr>\n",
              "      <th>6</th>\n",
              "      <td>0</td>\n",
              "      <td>0</td>\n",
              "      <td>1.440327</td>\n",
              "      <td>1</td>\n",
              "      <td>1</td>\n",
              "      <td>0</td>\n",
              "    </tr>\n",
              "    <tr>\n",
              "      <th>7</th>\n",
              "      <td>1</td>\n",
              "      <td>0</td>\n",
              "      <td>0.035260</td>\n",
              "      <td>0</td>\n",
              "      <td>3</td>\n",
              "      <td>0</td>\n",
              "    </tr>\n",
              "    <tr>\n",
              "      <th>8</th>\n",
              "      <td>0</td>\n",
              "      <td>1</td>\n",
              "      <td>1.490764</td>\n",
              "      <td>0</td>\n",
              "      <td>0</td>\n",
              "      <td>1</td>\n",
              "    </tr>\n",
              "    <tr>\n",
              "      <th>9</th>\n",
              "      <td>0</td>\n",
              "      <td>0</td>\n",
              "      <td>0.005838</td>\n",
              "      <td>1</td>\n",
              "      <td>3</td>\n",
              "      <td>0</td>\n",
              "    </tr>\n",
              "  </tbody>\n",
              "</table>\n",
              "</div>"
            ],
            "text/plain": [
              "   mobile  viewed  duration  returning_visitor  time_of_day  action\n",
              "0       1       0  0.657510                  0            3       0\n",
              "1       1       1  0.568571                  0            2       1\n",
              "2       1       0  0.042246                  1            1       0\n",
              "3       1       1  1.659793                  1            1       2\n",
              "4       0       1  2.014745                  1            1       2\n",
              "5       1       1  0.512447                  1            1       2\n",
              "6       0       0  1.440327                  1            1       0\n",
              "7       1       0  0.035260                  0            3       0\n",
              "8       0       1  1.490764                  0            0       1\n",
              "9       0       0  0.005838                  1            3       0"
            ]
          },
          "metadata": {
            "tags": []
          },
          "execution_count": 7
        }
      ]
    },
    {
      "cell_type": "code",
      "metadata": {
        "id": "JCvIF7vWmuvn",
        "colab_type": "code",
        "colab": {
          "base_uri": "https://localhost:8080/",
          "height": 343
        },
        "outputId": "a72c1871-832c-4ec0-fb52-a1f59deafb79"
      },
      "source": [
        "df.tail(10)"
      ],
      "execution_count": 9,
      "outputs": [
        {
          "output_type": "execute_result",
          "data": {
            "text/html": [
              "<div>\n",
              "<style scoped>\n",
              "    .dataframe tbody tr th:only-of-type {\n",
              "        vertical-align: middle;\n",
              "    }\n",
              "\n",
              "    .dataframe tbody tr th {\n",
              "        vertical-align: top;\n",
              "    }\n",
              "\n",
              "    .dataframe thead th {\n",
              "        text-align: right;\n",
              "    }\n",
              "</style>\n",
              "<table border=\"1\" class=\"dataframe\">\n",
              "  <thead>\n",
              "    <tr style=\"text-align: right;\">\n",
              "      <th></th>\n",
              "      <th>mobile</th>\n",
              "      <th>viewed</th>\n",
              "      <th>duration</th>\n",
              "      <th>returning_visitor</th>\n",
              "      <th>time_of_day</th>\n",
              "      <th>action</th>\n",
              "    </tr>\n",
              "  </thead>\n",
              "  <tbody>\n",
              "    <tr>\n",
              "      <th>490</th>\n",
              "      <td>1</td>\n",
              "      <td>3</td>\n",
              "      <td>0.978725</td>\n",
              "      <td>1</td>\n",
              "      <td>1</td>\n",
              "      <td>3</td>\n",
              "    </tr>\n",
              "    <tr>\n",
              "      <th>491</th>\n",
              "      <td>1</td>\n",
              "      <td>0</td>\n",
              "      <td>0.233267</td>\n",
              "      <td>1</td>\n",
              "      <td>3</td>\n",
              "      <td>0</td>\n",
              "    </tr>\n",
              "    <tr>\n",
              "      <th>492</th>\n",
              "      <td>0</td>\n",
              "      <td>0</td>\n",
              "      <td>0.666865</td>\n",
              "      <td>1</td>\n",
              "      <td>2</td>\n",
              "      <td>0</td>\n",
              "    </tr>\n",
              "    <tr>\n",
              "      <th>493</th>\n",
              "      <td>0</td>\n",
              "      <td>0</td>\n",
              "      <td>2.037393</td>\n",
              "      <td>0</td>\n",
              "      <td>2</td>\n",
              "      <td>0</td>\n",
              "    </tr>\n",
              "    <tr>\n",
              "      <th>494</th>\n",
              "      <td>1</td>\n",
              "      <td>1</td>\n",
              "      <td>1.601178</td>\n",
              "      <td>1</td>\n",
              "      <td>1</td>\n",
              "      <td>2</td>\n",
              "    </tr>\n",
              "    <tr>\n",
              "      <th>495</th>\n",
              "      <td>1</td>\n",
              "      <td>3</td>\n",
              "      <td>0.731594</td>\n",
              "      <td>0</td>\n",
              "      <td>0</td>\n",
              "      <td>2</td>\n",
              "    </tr>\n",
              "    <tr>\n",
              "      <th>496</th>\n",
              "      <td>0</td>\n",
              "      <td>0</td>\n",
              "      <td>6.368775</td>\n",
              "      <td>1</td>\n",
              "      <td>3</td>\n",
              "      <td>0</td>\n",
              "    </tr>\n",
              "    <tr>\n",
              "      <th>497</th>\n",
              "      <td>0</td>\n",
              "      <td>0</td>\n",
              "      <td>0.172853</td>\n",
              "      <td>1</td>\n",
              "      <td>3</td>\n",
              "      <td>0</td>\n",
              "    </tr>\n",
              "    <tr>\n",
              "      <th>498</th>\n",
              "      <td>1</td>\n",
              "      <td>0</td>\n",
              "      <td>0.209964</td>\n",
              "      <td>0</td>\n",
              "      <td>3</td>\n",
              "      <td>0</td>\n",
              "    </tr>\n",
              "    <tr>\n",
              "      <th>499</th>\n",
              "      <td>0</td>\n",
              "      <td>0</td>\n",
              "      <td>2.616882</td>\n",
              "      <td>1</td>\n",
              "      <td>3</td>\n",
              "      <td>0</td>\n",
              "    </tr>\n",
              "  </tbody>\n",
              "</table>\n",
              "</div>"
            ],
            "text/plain": [
              "     mobile  viewed  duration  returning_visitor  time_of_day  action\n",
              "490       1       3  0.978725                  1            1       3\n",
              "491       1       0  0.233267                  1            3       0\n",
              "492       0       0  0.666865                  1            2       0\n",
              "493       0       0  2.037393                  0            2       0\n",
              "494       1       1  1.601178                  1            1       2\n",
              "495       1       3  0.731594                  0            0       2\n",
              "496       0       0  6.368775                  1            3       0\n",
              "497       0       0  0.172853                  1            3       0\n",
              "498       1       0  0.209964                  0            3       0\n",
              "499       0       0  2.616882                  1            3       0"
            ]
          },
          "metadata": {
            "tags": []
          },
          "execution_count": 9
        }
      ]
    },
    {
      "cell_type": "markdown",
      "metadata": {
        "id": "S7Vi0p3C-Qqb",
        "colab_type": "text"
      },
      "source": [
        "The above output displays that there are no duplicate values in our data as the number of rows and columns remain constant"
      ]
    },
    {
      "cell_type": "markdown",
      "metadata": {
        "id": "TDlAtyOSGxnm",
        "colab_type": "text"
      },
      "source": [
        "**Dropping the Null Values**"
      ]
    },
    {
      "cell_type": "markdown",
      "metadata": {
        "id": "kEl0qQTU-oFW",
        "colab_type": "text"
      },
      "source": [
        "now, the next step is to detect the missing values  are dropped tehm later.This not a necessary practice because generally the missing values  are replaced with mean or average of that column."
      ]
    },
    {
      "cell_type": "code",
      "metadata": {
        "id": "PvpPMo8m-evI",
        "colab_type": "code",
        "colab": {
          "base_uri": "https://localhost:8080/",
          "height": 134
        },
        "outputId": "b0272a04-ccdc-4bf9-becb-abd0af9766e3"
      },
      "source": [
        "print(df.isnull().sum())\n"
      ],
      "execution_count": 13,
      "outputs": [
        {
          "output_type": "stream",
          "text": [
            "mobile               0\n",
            "viewed               0\n",
            "duration             0\n",
            "returning_visitor    0\n",
            "time_of_day          0\n",
            "action               0\n",
            "dtype: int64\n"
          ],
          "name": "stdout"
        }
      ]
    },
    {
      "cell_type": "code",
      "metadata": {
        "id": "vXoq9Tk0_q_4",
        "colab_type": "code",
        "colab": {
          "base_uri": "https://localhost:8080/",
          "height": 134
        },
        "outputId": "27773f24-c85a-4e45-95c7-454ef8bd9ae5"
      },
      "source": [
        "df = df.dropna()    # Dropping the missing values.\n",
        "df.count()"
      ],
      "execution_count": 14,
      "outputs": [
        {
          "output_type": "execute_result",
          "data": {
            "text/plain": [
              "mobile               500\n",
              "viewed               500\n",
              "duration             500\n",
              "returning_visitor    500\n",
              "time_of_day          500\n",
              "action               500\n",
              "dtype: int64"
            ]
          },
          "metadata": {
            "tags": []
          },
          "execution_count": 14
        }
      ]
    },
    {
      "cell_type": "markdown",
      "metadata": {
        "id": "dg0QXiqcAOB1",
        "colab_type": "text"
      },
      "source": [
        "Now we have removed all the rows which contain the Null or N/A values .in this case no values are found."
      ]
    },
    {
      "cell_type": "markdown",
      "metadata": {
        "id": "ZOUjDkqXGiOw",
        "colab_type": "text"
      },
      "source": [
        "**Detecting Outliers**"
      ]
    },
    {
      "cell_type": "markdown",
      "metadata": {
        "id": "A31-NwUkDGLH",
        "colab_type": "text"
      },
      "source": [
        "An outlier is a point or set of points that are different from other points. Sometimes they can be very high or very low. It's often a good idea to detect and remove the outliers. Because outliers are one of the primary reasons for resulting in a less accurate model. Hence it's a good idea to remove them. The outlier detection and removing that I am going to perform is called IQR score technique. Often outliers can be seen with visualizations using a box plot. "
      ]
    },
    {
      "cell_type": "code",
      "metadata": {
        "id": "4nleP3pIAAai",
        "colab_type": "code",
        "colab": {
          "base_uri": "https://localhost:8080/",
          "height": 302
        },
        "outputId": "bedf915c-c7d5-4489-cd87-f57f5b3b6d7d"
      },
      "source": [
        "sns.boxplot(x=df['action'])\n"
      ],
      "execution_count": 15,
      "outputs": [
        {
          "output_type": "execute_result",
          "data": {
            "text/plain": [
              "<matplotlib.axes._subplots.AxesSubplot at 0x7f98d0a9feb8>"
            ]
          },
          "metadata": {
            "tags": []
          },
          "execution_count": 15
        },
        {
          "output_type": "display_data",
          "data": {
            "image/png": "[encoded data removed]",
            "text/plain": [
              "<Figure size 432x288 with 1 Axes>"
            ]
          },
          "metadata": {
            "tags": []
          }
        }
      ]
    },
    {
      "cell_type": "code",
      "metadata": {
        "id": "is4Kkd75FbHj",
        "colab_type": "code",
        "colab": {
          "base_uri": "https://localhost:8080/",
          "height": 302
        },
        "outputId": "d96e18e7-d19d-469a-b270-cbf94e3e2eb7"
      },
      "source": [
        "sns.boxplot(x=df['duration'])\n"
      ],
      "execution_count": 12,
      "outputs": [
        {
          "output_type": "execute_result",
          "data": {
            "text/plain": [
              "<matplotlib.axes._subplots.AxesSubplot at 0x7f98d0b13da0>"
            ]
          },
          "metadata": {
            "tags": []
          },
          "execution_count": 12
        },
        {
          "output_type": "display_data",
          "data": {
            "image/png": "[encoded data removed]",
            "text/plain": [
              "<Figure size 432x288 with 1 Axes>"
            ]
          },
          "metadata": {
            "tags": []
          }
        }
      ]
    },
    {
      "cell_type": "code",
      "metadata": {
        "id": "fzDvHExoFoyo",
        "colab_type": "code",
        "colab": {
          "base_uri": "https://localhost:8080/",
          "height": 134
        },
        "outputId": "76616f88-5484-45fc-b7f3-e70863aa4e5d"
      },
      "source": [
        "Q1 = df.quantile(0.25)\n",
        "Q3 = df.quantile(0.75)\n",
        "IQR = Q3 - Q1\n",
        "print(IQR)"
      ],
      "execution_count": 16,
      "outputs": [
        {
          "output_type": "stream",
          "text": [
            "mobile               1.000000\n",
            "viewed               1.000000\n",
            "duration             1.170968\n",
            "returning_visitor    1.000000\n",
            "time_of_day          2.000000\n",
            "action               1.000000\n",
            "dtype: float64\n"
          ],
          "name": "stdout"
        }
      ]
    },
    {
      "cell_type": "code",
      "metadata": {
        "id": "t1RDgVemHq2r",
        "colab_type": "code",
        "colab": {
          "base_uri": "https://localhost:8080/",
          "height": 34
        },
        "outputId": "4db9d0b3-7c8c-47a4-9b03-70ceef3787ac"
      },
      "source": [
        "df = df[~((df < (Q1 - 1.5 * IQR)) |(df > (Q3 + 1.5 * IQR))).any(axis=1)]\n",
        "df.shape\n"
      ],
      "execution_count": 17,
      "outputs": [
        {
          "output_type": "execute_result",
          "data": {
            "text/plain": [
              "(427, 6)"
            ]
          },
          "metadata": {
            "tags": []
          },
          "execution_count": 17
        }
      ]
    },
    {
      "cell_type": "markdown",
      "metadata": {
        "id": "mQNpxEz6IVpG",
        "colab_type": "text"
      },
      "source": [
        "**Plot Histogram**"
      ]
    },
    {
      "cell_type": "code",
      "metadata": {
        "id": "Fjp596X2IK19",
        "colab_type": "code",
        "colab": {
          "base_uri": "https://localhost:8080/",
          "height": 352
        },
        "outputId": "4e5612a4-7fd0-4d03-d1ef-472a11d63c10"
      },
      "source": [
        "df.action.value_counts().nlargest(40).plot(kind='bar', figsize=(10,5))\n",
        "plt.title(\"Number of mobiles viewed in a day\")\n",
        "plt.ylabel('duration')\n",
        "plt.xlabel('action');\n"
      ],
      "execution_count": 33,
      "outputs": [
        {
          "output_type": "display_data",
          "data": {
            "image/png": "[encoded data removed]",
            "text/plain": [
              "<Figure size 720x360 with 1 Axes>"
            ]
          },
          "metadata": {
            "tags": []
          }
        }
      ]
    },
    {
      "cell_type": "markdown",
      "metadata": {
        "id": "NfVI-NfAMiHD",
        "colab_type": "text"
      },
      "source": [
        "**Heat maps**"
      ]
    },
    {
      "cell_type": "code",
      "metadata": {
        "id": "HU2TnxoVJSZW",
        "colab_type": "code",
        "colab": {
          "base_uri": "https://localhost:8080/",
          "height": 669
        },
        "outputId": "d41c9e8e-06fe-4326-fe37-5bbbe87ff0ac"
      },
      "source": [
        "plt.figure(figsize=(10,6))\n",
        "c= df.corr()\n",
        "sns.heatmap(c,cmap=\"BrBG\",annot=True)\n",
        "c"
      ],
      "execution_count": 29,
      "outputs": [
        {
          "output_type": "execute_result",
          "data": {
            "text/html": [
              "<div>\n",
              "<style scoped>\n",
              "    .dataframe tbody tr th:only-of-type {\n",
              "        vertical-align: middle;\n",
              "    }\n",
              "\n",
              "    .dataframe tbody tr th {\n",
              "        vertical-align: top;\n",
              "    }\n",
              "\n",
              "    .dataframe thead th {\n",
              "        text-align: right;\n",
              "    }\n",
              "</style>\n",
              "<table border=\"1\" class=\"dataframe\">\n",
              "  <thead>\n",
              "    <tr style=\"text-align: right;\">\n",
              "      <th></th>\n",
              "      <th>mobile</th>\n",
              "      <th>viewed</th>\n",
              "      <th>duration</th>\n",
              "      <th>returning_visitor</th>\n",
              "      <th>time_of_day</th>\n",
              "      <th>action</th>\n",
              "    </tr>\n",
              "  </thead>\n",
              "  <tbody>\n",
              "    <tr>\n",
              "      <th>mobile</th>\n",
              "      <td>1.000000</td>\n",
              "      <td>0.010708</td>\n",
              "      <td>0.070799</td>\n",
              "      <td>-0.038922</td>\n",
              "      <td>0.092996</td>\n",
              "      <td>0.176674</td>\n",
              "    </tr>\n",
              "    <tr>\n",
              "      <th>viewed</th>\n",
              "      <td>0.010708</td>\n",
              "      <td>1.000000</td>\n",
              "      <td>-0.098117</td>\n",
              "      <td>-0.057649</td>\n",
              "      <td>0.047899</td>\n",
              "      <td>0.746208</td>\n",
              "    </tr>\n",
              "    <tr>\n",
              "      <th>duration</th>\n",
              "      <td>0.070799</td>\n",
              "      <td>-0.098117</td>\n",
              "      <td>1.000000</td>\n",
              "      <td>-0.041645</td>\n",
              "      <td>-0.015548</td>\n",
              "      <td>0.142825</td>\n",
              "    </tr>\n",
              "    <tr>\n",
              "      <th>returning_visitor</th>\n",
              "      <td>-0.038922</td>\n",
              "      <td>-0.057649</td>\n",
              "      <td>-0.041645</td>\n",
              "      <td>1.000000</td>\n",
              "      <td>-0.000958</td>\n",
              "      <td>0.098320</td>\n",
              "    </tr>\n",
              "    <tr>\n",
              "      <th>time_of_day</th>\n",
              "      <td>0.092996</td>\n",
              "      <td>0.047899</td>\n",
              "      <td>-0.015548</td>\n",
              "      <td>-0.000958</td>\n",
              "      <td>1.000000</td>\n",
              "      <td>-0.050289</td>\n",
              "    </tr>\n",
              "    <tr>\n",
              "      <th>action</th>\n",
              "      <td>0.176674</td>\n",
              "      <td>0.746208</td>\n",
              "      <td>0.142825</td>\n",
              "      <td>0.098320</td>\n",
              "      <td>-0.050289</td>\n",
              "      <td>1.000000</td>\n",
              "    </tr>\n",
              "  </tbody>\n",
              "</table>\n",
              "</div>"
            ],
            "text/plain": [
              "                     mobile    viewed  ...  time_of_day    action\n",
              "mobile             1.000000  0.010708  ...     0.092996  0.176674\n",
              "viewed             0.010708  1.000000  ...     0.047899  0.746208\n",
              "duration           0.070799 -0.098117  ...    -0.015548  0.142825\n",
              "returning_visitor -0.038922 -0.057649  ...    -0.000958  0.098320\n",
              "time_of_day        0.092996  0.047899  ...     1.000000 -0.050289\n",
              "action             0.176674  0.746208  ...    -0.050289  1.000000\n",
              "\n",
              "[6 rows x 6 columns]"
            ]
          },
          "metadata": {
            "tags": []
          },
          "execution_count": 29
        },
        {
          "output_type": "display_data",
          "data": {
            "image/png": "[encoded data removed]",
            "text/plain": [
              "<Figure size 720x432 with 2 Axes>"
            ]
          },
          "metadata": {
            "tags": []
          }
        }
      ]
    },
    {
      "cell_type": "markdown",
      "metadata": {
        "id": "X6iB52QlQiWX",
        "colab_type": "text"
      },
      "source": [
        ""
      ]
    },
    {
      "cell_type": "code",
      "metadata": {
        "id": "jxcbrGCDNQ-B",
        "colab_type": "code",
        "colab": {}
      },
      "source": [
        ""
      ],
      "execution_count": 0,
      "outputs": []
    }
  ]
}