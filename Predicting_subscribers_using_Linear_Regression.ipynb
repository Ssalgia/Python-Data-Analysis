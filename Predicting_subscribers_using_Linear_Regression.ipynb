{
  "nbformat": 4,
  "nbformat_minor": 0,
  "metadata": {
    "colab": {
      "name": "Predicting subscribers using Linear Regression.ipynb",
      "provenance": [],
      "authorship_tag": "ABX9TyOlaBepF6ChQvon1JtDlrW8",
      "include_colab_link": true
    },
    "kernelspec": {
      "name": "python3",
      "display_name": "Python 3"
    }
  },
  "cells": [
    {
      "cell_type": "markdown",
      "metadata": {
        "id": "view-in-github",
        "colab_type": "text"
      },
      "source": [
        "<a href=\"https://colab.research.google.com/github/Ssalgia/Python-Data-Analysis/blob/master/Predicting_subscribers_using_Linear_Regression.ipynb\" target=\"_parent\"><img src=\"https://colab.research.google.com/assets/colab-badge.svg\" alt=\"Open In Colab\"/></a>"
      ]
    },
    {
      "cell_type": "code",
      "metadata": {
        "id": "EsLbYeOrz_n3",
        "colab_type": "code",
        "colab": {}
      },
      "source": [
        ""
      ],
      "execution_count": 0,
      "outputs": []
    },
    {
      "cell_type": "markdown",
      "metadata": {
        "id": "s4HMXliV0sGc",
        "colab_type": "text"
      },
      "source": [
        " **Referred from Tanu-N-Prabhu's Github Page**"
      ]
    },
    {
      "cell_type": "markdown",
      "metadata": {
        "id": "NLrOla1A0O-P",
        "colab_type": "text"
      },
      "source": [
        "**The Steps that we are going to follow to complete this implementation is as follows:**\n",
        "\n",
        "1.Importing the necessary libraries.\n",
        "\n",
        "2.Reading the dataset from the CSV file.\n",
        "\n",
        "3.Splitting the dataset into independent (x) and dependent (y) variables.\n",
        "\n",
        "4.Dividing the complete dataset into training and testing dataset.\n",
        "\n",
        "5.Implement our classifier based on simple linear regression.\n"
      ]
    },
    {
      "cell_type": "markdown",
      "metadata": {
        "id": "l0zxdMwf1Ph9",
        "colab_type": "text"
      },
      "source": [
        ""
      ]
    },
    {
      "cell_type": "markdown",
      "metadata": {
        "id": "iV4T3Bep1PjY",
        "colab_type": "text"
      },
      "source": [
        "**Importing**\n",
        "\n",
        "1.numpy\n",
        "\n",
        "2.pandas \n",
        "\n",
        "3.sklearn.linear\n",
        "\n",
        "4.sklearn.model_selection"
      ]
    },
    {
      "cell_type": "code",
      "metadata": {
        "id": "XcUz1tMA1p8s",
        "colab_type": "code",
        "colab": {}
      },
      "source": [
        "import numpy as np\n",
        "import pandas as pd\n",
        "from sklearn.linear_model import LinearRegression\n",
        "from sklearn.model_selection import train_test_split\n"
      ],
      "execution_count": 0,
      "outputs": []
    },
    {
      "cell_type": "markdown",
      "metadata": {
        "id": "6zyblmo-2RKn",
        "colab_type": "text"
      },
      "source": [
        "**Reading Dataset from csv file**"
      ]
    },
    {
      "cell_type": "code",
      "metadata": {
        "id": "Q9KkS7j82X1f",
        "colab_type": "code",
        "colab": {
          "base_uri": "https://localhost:8080/",
          "height": 343
        },
        "outputId": "2fcf6318-dab5-4089-dca1-97dbc2712f85"
      },
      "source": [
        "df = pd.read_csv(\"PewDiePie.csv\")  # Storing the data in a pandas data frame.\n",
        "df.head(10)"
      ],
      "execution_count": 5,
      "outputs": [
        {
          "output_type": "execute_result",
          "data": {
            "text/html": [
              "<div>\n",
              "<style scoped>\n",
              "    .dataframe tbody tr th:only-of-type {\n",
              "        vertical-align: middle;\n",
              "    }\n",
              "\n",
              "    .dataframe tbody tr th {\n",
              "        vertical-align: top;\n",
              "    }\n",
              "\n",
              "    .dataframe thead th {\n",
              "        text-align: right;\n",
              "    }\n",
              "</style>\n",
              "<table border=\"1\" class=\"dataframe\">\n",
              "  <thead>\n",
              "    <tr style=\"text-align: right;\">\n",
              "      <th></th>\n",
              "      <th>Date</th>\n",
              "      <th>Subscribers</th>\n",
              "    </tr>\n",
              "  </thead>\n",
              "  <tbody>\n",
              "    <tr>\n",
              "      <th>0</th>\n",
              "      <td>1</td>\n",
              "      <td>71915</td>\n",
              "    </tr>\n",
              "    <tr>\n",
              "      <th>1</th>\n",
              "      <td>2</td>\n",
              "      <td>48270</td>\n",
              "    </tr>\n",
              "    <tr>\n",
              "      <th>2</th>\n",
              "      <td>3</td>\n",
              "      <td>47746</td>\n",
              "    </tr>\n",
              "    <tr>\n",
              "      <th>3</th>\n",
              "      <td>4</td>\n",
              "      <td>42276</td>\n",
              "    </tr>\n",
              "    <tr>\n",
              "      <th>4</th>\n",
              "      <td>5</td>\n",
              "      <td>36867</td>\n",
              "    </tr>\n",
              "    <tr>\n",
              "      <th>5</th>\n",
              "      <td>6</td>\n",
              "      <td>28722</td>\n",
              "    </tr>\n",
              "    <tr>\n",
              "      <th>6</th>\n",
              "      <td>7</td>\n",
              "      <td>29794</td>\n",
              "    </tr>\n",
              "    <tr>\n",
              "      <th>7</th>\n",
              "      <td>8</td>\n",
              "      <td>33125</td>\n",
              "    </tr>\n",
              "    <tr>\n",
              "      <th>8</th>\n",
              "      <td>9</td>\n",
              "      <td>27877</td>\n",
              "    </tr>\n",
              "    <tr>\n",
              "      <th>9</th>\n",
              "      <td>10</td>\n",
              "      <td>30675</td>\n",
              "    </tr>\n",
              "  </tbody>\n",
              "</table>\n",
              "</div>"
            ],
            "text/plain": [
              "   Date  Subscribers\n",
              "0     1        71915\n",
              "1     2        48270\n",
              "2     3        47746\n",
              "3     4        42276\n",
              "4     5        36867\n",
              "5     6        28722\n",
              "6     7        29794\n",
              "7     8        33125\n",
              "8     9        27877\n",
              "9    10        30675"
            ]
          },
          "metadata": {
            "tags": []
          },
          "execution_count": 5
        }
      ]
    },
    {
      "cell_type": "markdown",
      "metadata": {
        "id": "TCyX3jzG20pl",
        "colab_type": "text"
      },
      "source": [
        "**Splitting the data into Independent(x) and Dependant (y) Variables.**"
      ]
    },
    {
      "cell_type": "markdown",
      "metadata": {
        "id": "ypMzfHAz3YSw",
        "colab_type": "text"
      },
      "source": [
        "Here the 'x' value comprises the data and the 'y' value comprises the subscribers, and iloc is used to get the values from a data frame. The reason I have used [:,: -1] is because I needed the second last column from the data frame, and the [:1] gives me the last column of the data frame. You can print the value for confirmation.\n",
        "\n"
      ]
    },
    {
      "cell_type": "code",
      "metadata": {
        "id": "nLlmdKPt3A8d",
        "colab_type": "code",
        "colab": {}
      },
      "source": [
        "x = df.iloc[:, :-1]\n",
        "y = df.iloc[:, 1]"
      ],
      "execution_count": 0,
      "outputs": []
    },
    {
      "cell_type": "markdown",
      "metadata": {
        "id": "Wt6eEHoT4dOu",
        "colab_type": "text"
      },
      "source": [
        "**Dividing into training and testing sets.**"
      ]
    },
    {
      "cell_type": "markdown",
      "metadata": {
        "id": "0l3YbCd24meG",
        "colab_type": "text"
      },
      "source": [
        "\n",
        "Here both the 'x' and the 'y' variables are divided into training and testing data, the test data is 0.2 or 20% and the rest is 80% (training data), random_state is the seed used by the random number generator. The standard distribution of the training and testing set is 70 and 30 respectively.\n",
        "\n"
      ]
    },
    {
      "cell_type": "code",
      "metadata": {
        "id": "eqMS1f1U45sm",
        "colab_type": "code",
        "colab": {}
      },
      "source": [
        "x_train, x_test, y_train, y_test = train_test_split(x, y, test_size = 0.2, random_state = 0)\n"
      ],
      "execution_count": 0,
      "outputs": []
    },
    {
      "cell_type": "markdown",
      "metadata": {
        "id": "AVYMpDDgTl3o",
        "colab_type": "text"
      },
      "source": [
        "**Implement our classifier based on simple linear regression.**\n"
      ]
    },
    {
      "cell_type": "markdown",
      "metadata": {
        "id": "tri-k--HXv2i",
        "colab_type": "text"
      },
      "source": [
        " We have to feed the trained the tested values to the actual algorithm, by doing so we can predict the subscribers."
      ]
    },
    {
      "cell_type": "markdown",
      "metadata": {
        "id": "GA-vEUrwZHIl",
        "colab_type": "text"
      },
      "source": [
        "In the Below code we call the linear regression function and then try to fit the model by passing trained values."
      ]
    },
    {
      "cell_type": "code",
      "metadata": {
        "id": "DG-gNgjUTry5",
        "colab_type": "code",
        "colab": {
          "base_uri": "https://localhost:8080/",
          "height": 34
        },
        "outputId": "8ddab422-5ed6-4111-ec7a-6f87209517d2"
      },
      "source": [
        "simplelinearRegression = LinearRegression()\n",
        "simplelinearRegression.fit(x_train, y_train)"
      ],
      "execution_count": 13,
      "outputs": [
        {
          "output_type": "execute_result",
          "data": {
            "text/plain": [
              "LinearRegression(copy_X=True, fit_intercept=True, n_jobs=None, normalize=False)"
            ]
          },
          "metadata": {
            "tags": []
          },
          "execution_count": 13
        }
      ]
    },
    {
      "cell_type": "markdown",
      "metadata": {
        "id": "FWo1oQN0bV_k",
        "colab_type": "text"
      },
      "source": [
        " We need to predict those values using then predict method, for this we need to pass the tested value of the 'x' variable, by doing so we get the predicted values (subscribers). And the next line of code is just conversion, this is because the y_predict is of type numpy array, so we need to convert this into a data frame only then we can apply the round function. Now the variable predict contains all the predicted subscribers .\n",
        "\n"
      ]
    },
    {
      "cell_type": "code",
      "metadata": {
        "id": "ayUN8oQ7ZnVI",
        "colab_type": "code",
        "colab": {}
      },
      "source": [
        "y_predict = simplelinearRegression.predict(x_test)\n"
      ],
      "execution_count": 0,
      "outputs": []
    },
    {
      "cell_type": "code",
      "metadata": {
        "id": "NwnhfXhiZpNy",
        "colab_type": "code",
        "colab": {}
      },
      "source": [
        "predict = pd.DataFrame(y_predict)\n"
      ],
      "execution_count": 0,
      "outputs": []
    },
    {
      "cell_type": "code",
      "metadata": {
        "id": "JjVZ9BQAZtA9",
        "colab_type": "code",
        "colab": {
          "base_uri": "https://localhost:8080/",
          "height": 166
        },
        "outputId": "a7370de9-a172-4f2e-afc2-45684707339b"
      },
      "source": [
        "predict.apply(np.round)\n"
      ],
      "execution_count": 17,
      "outputs": [
        {
          "output_type": "execute_result",
          "data": {
            "text/html": [
              "<div>\n",
              "<style scoped>\n",
              "    .dataframe tbody tr th:only-of-type {\n",
              "        vertical-align: middle;\n",
              "    }\n",
              "\n",
              "    .dataframe tbody tr th {\n",
              "        vertical-align: top;\n",
              "    }\n",
              "\n",
              "    .dataframe thead th {\n",
              "        text-align: right;\n",
              "    }\n",
              "</style>\n",
              "<table border=\"1\" class=\"dataframe\">\n",
              "  <thead>\n",
              "    <tr style=\"text-align: right;\">\n",
              "      <th></th>\n",
              "      <th>0</th>\n",
              "    </tr>\n",
              "  </thead>\n",
              "  <tbody>\n",
              "    <tr>\n",
              "      <th>0</th>\n",
              "      <td>33900.0</td>\n",
              "    </tr>\n",
              "    <tr>\n",
              "      <th>1</th>\n",
              "      <td>45534.0</td>\n",
              "    </tr>\n",
              "    <tr>\n",
              "      <th>2</th>\n",
              "      <td>33216.0</td>\n",
              "    </tr>\n",
              "    <tr>\n",
              "      <th>3</th>\n",
              "      <td>40744.0</td>\n",
              "    </tr>\n",
              "  </tbody>\n",
              "</table>\n",
              "</div>"
            ],
            "text/plain": [
              "         0\n",
              "0  33900.0\n",
              "1  45534.0\n",
              "2  33216.0\n",
              "3  40744.0"
            ]
          },
          "metadata": {
            "tags": []
          },
          "execution_count": 17
        }
      ]
    },
    {
      "cell_type": "markdown",
      "metadata": {
        "id": "2sG6xXnPbm4i",
        "colab_type": "text"
      },
      "source": [
        "Now we put the data into while loop to get the actual values and just usea print statement."
      ]
    },
    {
      "cell_type": "code",
      "metadata": {
        "id": "4mM6ubvkcBTY",
        "colab_type": "code",
        "colab": {
          "base_uri": "https://localhost:8080/",
          "height": 151
        },
        "outputId": "95882117-94b6-4923-b94b-1b879c8e6b6a"
      },
      "source": [
        "i = 21\n",
        "while i <= 28:\n",
        "  print(\"Total number of increase in subscribers on May %d ==>\" %(i) , int(simplelinearRegression.predict([[i]])))\n",
        "  i= i+1"
      ],
      "execution_count": 18,
      "outputs": [
        {
          "output_type": "stream",
          "text": [
            "Total number of increase in subscribers on May 21 ==> 32531\n",
            "Total number of increase in subscribers on May 22 ==> 31847\n",
            "Total number of increase in subscribers on May 23 ==> 31162\n",
            "Total number of increase in subscribers on May 24 ==> 30478\n",
            "Total number of increase in subscribers on May 25 ==> 29794\n",
            "Total number of increase in subscribers on May 26 ==> 29109\n",
            "Total number of increase in subscribers on May 27 ==> 28425\n",
            "Total number of increase in subscribers on May 28 ==> 27740\n"
          ],
          "name": "stdout"
        }
      ]
    },
    {
      "cell_type": "code",
      "metadata": {
        "id": "BO-b2N2NcH6p",
        "colab_type": "code",
        "colab": {
          "base_uri": "https://localhost:8080/",
          "height": 302
        },
        "outputId": "dbb21558-c530-4b3e-9990-b813d2566278"
      },
      "source": [
        "i = 15\n",
        "while i <= 31:\n",
        "  print(\"Total number of increase in subscribers on May %d ==>\" %(i) , int(simplelinearRegression.predict([[i]])))\n",
        "  i= i+1"
      ],
      "execution_count": 19,
      "outputs": [
        {
          "output_type": "stream",
          "text": [
            "Total number of increase in subscribers on May 15 ==> 36637\n",
            "Total number of increase in subscribers on May 16 ==> 35953\n",
            "Total number of increase in subscribers on May 17 ==> 35268\n",
            "Total number of increase in subscribers on May 18 ==> 34584\n",
            "Total number of increase in subscribers on May 19 ==> 33900\n",
            "Total number of increase in subscribers on May 20 ==> 33215\n",
            "Total number of increase in subscribers on May 21 ==> 32531\n",
            "Total number of increase in subscribers on May 22 ==> 31847\n",
            "Total number of increase in subscribers on May 23 ==> 31162\n",
            "Total number of increase in subscribers on May 24 ==> 30478\n",
            "Total number of increase in subscribers on May 25 ==> 29794\n",
            "Total number of increase in subscribers on May 26 ==> 29109\n",
            "Total number of increase in subscribers on May 27 ==> 28425\n",
            "Total number of increase in subscribers on May 28 ==> 27740\n",
            "Total number of increase in subscribers on May 29 ==> 27056\n",
            "Total number of increase in subscribers on May 30 ==> 26372\n",
            "Total number of increase in subscribers on May 31 ==> 25687\n"
          ],
          "name": "stdout"
        }
      ]
    }
  ]
}